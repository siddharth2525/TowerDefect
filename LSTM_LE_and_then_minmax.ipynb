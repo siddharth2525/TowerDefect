{
 "cells": [
  {
   "cell_type": "code",
   "execution_count": 131,
   "id": "8287e1a4-0ab1-4bcb-8e69-9d893bb08abf",
   "metadata": {},
   "outputs": [],
   "source": [
    "import pandas as pd\n",
    "import numpy as np\n",
    "from sklearn.preprocessing import MinMaxScaler,OneHotEncoder,LabelEncoder\n",
    "from sklearn.model_selection import train_test_split\n",
    "from sklearn.metrics import mean_absolute_error, r2_score\n",
    "import matplotlib.pyplot as plt\n",
    "from tensorflow.keras.models import Sequential\n",
    "from tensorflow.keras.layers import LSTM, Dense, Dropout, Flatten,BatchNormalization\n",
    "from tensorflow.keras.callbacks import EarlyStopping\n",
    "from tensorflow.keras.optimizers import Adam\n",
    "from sklearn.compose import ColumnTransformer\n",
    "from sklearn.pipeline import Pipeline\n",
    "\n",
    "\n"
   ]
  },
  {
   "cell_type": "code",
   "execution_count": 132,
   "id": "6e9733f0-e23a-4c28-b160-e64b8eef2167",
   "metadata": {},
   "outputs": [],
   "source": [
    "data=pd.read_excel(\"TowerDefectSD.xlsx\")"
   ]
  },
  {
   "cell_type": "code",
   "execution_count": 133,
   "id": "4098f615-b6cc-4eb0-8730-276d29e201be",
   "metadata": {},
   "outputs": [
    {
     "data": {
      "text/html": [
       "<div>\n",
       "<style scoped>\n",
       "    .dataframe tbody tr th:only-of-type {\n",
       "        vertical-align: middle;\n",
       "    }\n",
       "\n",
       "    .dataframe tbody tr th {\n",
       "        vertical-align: top;\n",
       "    }\n",
       "\n",
       "    .dataframe thead th {\n",
       "        text-align: right;\n",
       "    }\n",
       "</style>\n",
       "<table border=\"1\" class=\"dataframe\">\n",
       "  <thead>\n",
       "    <tr style=\"text-align: right;\">\n",
       "      <th></th>\n",
       "      <th>Tower_Id</th>\n",
       "      <th>Voltage_Id</th>\n",
       "      <th>Tower_Type</th>\n",
       "      <th>Tower_Config</th>\n",
       "      <th>Fdn_Type</th>\n",
       "      <th>Wind_Zone</th>\n",
       "      <th>Ckts_on_Tower</th>\n",
       "      <th>Vulnerability</th>\n",
       "      <th>Terrain_Type</th>\n",
       "      <th>sd1</th>\n",
       "      <th>sd2</th>\n",
       "      <th>sd3</th>\n",
       "      <th>sd4</th>\n",
       "      <th>sd5</th>\n",
       "    </tr>\n",
       "  </thead>\n",
       "  <tbody>\n",
       "    <tr>\n",
       "      <th>0</th>\n",
       "      <td>130965</td>\n",
       "      <td>4</td>\n",
       "      <td>QA</td>\n",
       "      <td>VERTICAL</td>\n",
       "      <td>FS</td>\n",
       "      <td>IV</td>\n",
       "      <td>MULTI CIRCUIT</td>\n",
       "      <td>NORMAL</td>\n",
       "      <td>PLAIN</td>\n",
       "      <td>1</td>\n",
       "      <td>0</td>\n",
       "      <td>0</td>\n",
       "      <td>0</td>\n",
       "      <td>0</td>\n",
       "    </tr>\n",
       "    <tr>\n",
       "      <th>1</th>\n",
       "      <td>130966</td>\n",
       "      <td>4</td>\n",
       "      <td>DD</td>\n",
       "      <td>VERTICAL</td>\n",
       "      <td>DFR</td>\n",
       "      <td>IV</td>\n",
       "      <td>DOUBLE CIRCUIT</td>\n",
       "      <td>NORMAL</td>\n",
       "      <td>HILLY</td>\n",
       "      <td>2</td>\n",
       "      <td>0</td>\n",
       "      <td>0</td>\n",
       "      <td>0</td>\n",
       "      <td>3</td>\n",
       "    </tr>\n",
       "    <tr>\n",
       "      <th>2</th>\n",
       "      <td>130999</td>\n",
       "      <td>4</td>\n",
       "      <td>DA</td>\n",
       "      <td>VERTICAL</td>\n",
       "      <td>WET</td>\n",
       "      <td>IV</td>\n",
       "      <td>DOUBLE CIRCUIT</td>\n",
       "      <td>NORMAL</td>\n",
       "      <td>PLAIN</td>\n",
       "      <td>2</td>\n",
       "      <td>0</td>\n",
       "      <td>0</td>\n",
       "      <td>0</td>\n",
       "      <td>0</td>\n",
       "    </tr>\n",
       "    <tr>\n",
       "      <th>3</th>\n",
       "      <td>131031</td>\n",
       "      <td>4</td>\n",
       "      <td>QD</td>\n",
       "      <td>VERTICAL</td>\n",
       "      <td>FS</td>\n",
       "      <td>IV</td>\n",
       "      <td>MULTI CIRCUIT</td>\n",
       "      <td>NORMAL</td>\n",
       "      <td>PLAIN</td>\n",
       "      <td>30</td>\n",
       "      <td>0</td>\n",
       "      <td>0</td>\n",
       "      <td>0</td>\n",
       "      <td>0</td>\n",
       "    </tr>\n",
       "    <tr>\n",
       "      <th>4</th>\n",
       "      <td>131032</td>\n",
       "      <td>4</td>\n",
       "      <td>QD</td>\n",
       "      <td>VERTICAL</td>\n",
       "      <td>FS</td>\n",
       "      <td>IV</td>\n",
       "      <td>MULTI CIRCUIT</td>\n",
       "      <td>NORMAL</td>\n",
       "      <td>PLAIN</td>\n",
       "      <td>1</td>\n",
       "      <td>0</td>\n",
       "      <td>0</td>\n",
       "      <td>0</td>\n",
       "      <td>0</td>\n",
       "    </tr>\n",
       "    <tr>\n",
       "      <th>5</th>\n",
       "      <td>131047</td>\n",
       "      <td>4</td>\n",
       "      <td>QB</td>\n",
       "      <td>VERTICAL</td>\n",
       "      <td>FS</td>\n",
       "      <td>IV</td>\n",
       "      <td>MULTI CIRCUIT</td>\n",
       "      <td>NORMAL</td>\n",
       "      <td>PLAIN</td>\n",
       "      <td>2</td>\n",
       "      <td>0</td>\n",
       "      <td>0</td>\n",
       "      <td>0</td>\n",
       "      <td>0</td>\n",
       "    </tr>\n",
       "    <tr>\n",
       "      <th>6</th>\n",
       "      <td>131049</td>\n",
       "      <td>4</td>\n",
       "      <td>QA</td>\n",
       "      <td>VERTICAL</td>\n",
       "      <td>FS</td>\n",
       "      <td>IV</td>\n",
       "      <td>MULTI CIRCUIT</td>\n",
       "      <td>NORMAL</td>\n",
       "      <td>PLAIN</td>\n",
       "      <td>0</td>\n",
       "      <td>0</td>\n",
       "      <td>0</td>\n",
       "      <td>0</td>\n",
       "      <td>12</td>\n",
       "    </tr>\n",
       "    <tr>\n",
       "      <th>7</th>\n",
       "      <td>131050</td>\n",
       "      <td>4</td>\n",
       "      <td>QA</td>\n",
       "      <td>VERTICAL</td>\n",
       "      <td>FS</td>\n",
       "      <td>IV</td>\n",
       "      <td>MULTI CIRCUIT</td>\n",
       "      <td>NORMAL</td>\n",
       "      <td>PLAIN</td>\n",
       "      <td>0</td>\n",
       "      <td>0</td>\n",
       "      <td>12</td>\n",
       "      <td>0</td>\n",
       "      <td>0</td>\n",
       "    </tr>\n",
       "    <tr>\n",
       "      <th>8</th>\n",
       "      <td>131064</td>\n",
       "      <td>4</td>\n",
       "      <td>DA</td>\n",
       "      <td>VERTICAL</td>\n",
       "      <td>NaN</td>\n",
       "      <td>IV</td>\n",
       "      <td>DOUBLE CIRCUIT</td>\n",
       "      <td>NORMAL</td>\n",
       "      <td>PLAIN</td>\n",
       "      <td>0</td>\n",
       "      <td>0</td>\n",
       "      <td>0</td>\n",
       "      <td>0</td>\n",
       "      <td>0</td>\n",
       "    </tr>\n",
       "    <tr>\n",
       "      <th>9</th>\n",
       "      <td>131083</td>\n",
       "      <td>1</td>\n",
       "      <td>DD</td>\n",
       "      <td>HORIZONTAL</td>\n",
       "      <td>WET</td>\n",
       "      <td>IV</td>\n",
       "      <td>DOUBLE CIRCUIT</td>\n",
       "      <td>NORMAL</td>\n",
       "      <td>PLAIN</td>\n",
       "      <td>0</td>\n",
       "      <td>0</td>\n",
       "      <td>0</td>\n",
       "      <td>0</td>\n",
       "      <td>0</td>\n",
       "    </tr>\n",
       "  </tbody>\n",
       "</table>\n",
       "</div>"
      ],
      "text/plain": [
       "   Tower_Id  Voltage_Id Tower_Type Tower_Config Fdn_Type Wind_Zone  \\\n",
       "0    130965           4         QA     VERTICAL       FS        IV   \n",
       "1    130966           4         DD     VERTICAL      DFR        IV   \n",
       "2    130999           4         DA     VERTICAL      WET        IV   \n",
       "3    131031           4         QD     VERTICAL       FS        IV   \n",
       "4    131032           4         QD     VERTICAL       FS        IV   \n",
       "5    131047           4         QB     VERTICAL       FS        IV   \n",
       "6    131049           4         QA     VERTICAL       FS        IV   \n",
       "7    131050           4         QA     VERTICAL       FS        IV   \n",
       "8    131064           4         DA     VERTICAL      NaN        IV   \n",
       "9    131083           1         DD   HORIZONTAL      WET        IV   \n",
       "\n",
       "    Ckts_on_Tower Vulnerability Terrain_Type  sd1  sd2  sd3  sd4  sd5  \n",
       "0   MULTI CIRCUIT        NORMAL        PLAIN    1    0    0    0    0  \n",
       "1  DOUBLE CIRCUIT        NORMAL        HILLY    2    0    0    0    3  \n",
       "2  DOUBLE CIRCUIT        NORMAL        PLAIN    2    0    0    0    0  \n",
       "3   MULTI CIRCUIT        NORMAL        PLAIN   30    0    0    0    0  \n",
       "4   MULTI CIRCUIT        NORMAL        PLAIN    1    0    0    0    0  \n",
       "5   MULTI CIRCUIT        NORMAL        PLAIN    2    0    0    0    0  \n",
       "6   MULTI CIRCUIT        NORMAL        PLAIN    0    0    0    0   12  \n",
       "7   MULTI CIRCUIT        NORMAL        PLAIN    0    0   12    0    0  \n",
       "8  DOUBLE CIRCUIT        NORMAL        PLAIN    0    0    0    0    0  \n",
       "9  DOUBLE CIRCUIT        NORMAL        PLAIN    0    0    0    0    0  "
      ]
     },
     "execution_count": 133,
     "metadata": {},
     "output_type": "execute_result"
    }
   ],
   "source": [
    "data.head(10)"
   ]
  },
  {
   "cell_type": "code",
   "execution_count": 134,
   "id": "fecbfd72-5735-472d-aadc-6542f5bb9598",
   "metadata": {},
   "outputs": [
    {
     "name": "stdout",
     "output_type": "stream",
     "text": [
      "<class 'pandas.core.frame.DataFrame'>\n",
      "RangeIndex: 163880 entries, 0 to 163879\n",
      "Data columns (total 14 columns):\n",
      " #   Column         Non-Null Count   Dtype \n",
      "---  ------         --------------   ----- \n",
      " 0   Tower_Id       163880 non-null  int64 \n",
      " 1   Voltage_Id     163880 non-null  int64 \n",
      " 2   Tower_Type     160999 non-null  object\n",
      " 3   Tower_Config   159762 non-null  object\n",
      " 4   Fdn_Type       153304 non-null  object\n",
      " 5   Wind_Zone      162465 non-null  object\n",
      " 6   Ckts_on_Tower  161983 non-null  object\n",
      " 7   Vulnerability  163880 non-null  object\n",
      " 8   Terrain_Type   159650 non-null  object\n",
      " 9   sd1            163880 non-null  int64 \n",
      " 10  sd2            163880 non-null  int64 \n",
      " 11  sd3            163880 non-null  int64 \n",
      " 12  sd4            163880 non-null  int64 \n",
      " 13  sd5            163880 non-null  int64 \n",
      "dtypes: int64(7), object(7)\n",
      "memory usage: 17.5+ MB\n"
     ]
    }
   ],
   "source": [
    "data.info()"
   ]
  },
  {
   "cell_type": "code",
   "execution_count": 135,
   "id": "f15ff2b5-2b0e-4cb2-ab44-8b4bdf468184",
   "metadata": {},
   "outputs": [
    {
     "data": {
      "text/html": [
       "<div>\n",
       "<style scoped>\n",
       "    .dataframe tbody tr th:only-of-type {\n",
       "        vertical-align: middle;\n",
       "    }\n",
       "\n",
       "    .dataframe tbody tr th {\n",
       "        vertical-align: top;\n",
       "    }\n",
       "\n",
       "    .dataframe thead th {\n",
       "        text-align: right;\n",
       "    }\n",
       "</style>\n",
       "<table border=\"1\" class=\"dataframe\">\n",
       "  <thead>\n",
       "    <tr style=\"text-align: right;\">\n",
       "      <th></th>\n",
       "      <th>Tower_Id</th>\n",
       "      <th>Voltage_Id</th>\n",
       "      <th>sd1</th>\n",
       "      <th>sd2</th>\n",
       "      <th>sd3</th>\n",
       "      <th>sd4</th>\n",
       "      <th>sd5</th>\n",
       "    </tr>\n",
       "  </thead>\n",
       "  <tbody>\n",
       "    <tr>\n",
       "      <th>count</th>\n",
       "      <td>163880.000000</td>\n",
       "      <td>163880.000000</td>\n",
       "      <td>163880.000000</td>\n",
       "      <td>163880.000000</td>\n",
       "      <td>163880.000000</td>\n",
       "      <td>163880.000000</td>\n",
       "      <td>163880.000000</td>\n",
       "    </tr>\n",
       "    <tr>\n",
       "      <th>mean</th>\n",
       "      <td>338645.817659</td>\n",
       "      <td>3.855321</td>\n",
       "      <td>0.426794</td>\n",
       "      <td>0.009415</td>\n",
       "      <td>0.791475</td>\n",
       "      <td>0.013229</td>\n",
       "      <td>0.675842</td>\n",
       "    </tr>\n",
       "    <tr>\n",
       "      <th>std</th>\n",
       "      <td>115013.543844</td>\n",
       "      <td>0.436580</td>\n",
       "      <td>1.326141</td>\n",
       "      <td>0.194137</td>\n",
       "      <td>2.310146</td>\n",
       "      <td>0.226392</td>\n",
       "      <td>2.035451</td>\n",
       "    </tr>\n",
       "    <tr>\n",
       "      <th>min</th>\n",
       "      <td>130962.000000</td>\n",
       "      <td>1.000000</td>\n",
       "      <td>0.000000</td>\n",
       "      <td>0.000000</td>\n",
       "      <td>0.000000</td>\n",
       "      <td>0.000000</td>\n",
       "      <td>0.000000</td>\n",
       "    </tr>\n",
       "    <tr>\n",
       "      <th>25%</th>\n",
       "      <td>238484.750000</td>\n",
       "      <td>4.000000</td>\n",
       "      <td>0.000000</td>\n",
       "      <td>0.000000</td>\n",
       "      <td>0.000000</td>\n",
       "      <td>0.000000</td>\n",
       "      <td>0.000000</td>\n",
       "    </tr>\n",
       "    <tr>\n",
       "      <th>50%</th>\n",
       "      <td>351448.500000</td>\n",
       "      <td>4.000000</td>\n",
       "      <td>0.000000</td>\n",
       "      <td>0.000000</td>\n",
       "      <td>0.000000</td>\n",
       "      <td>0.000000</td>\n",
       "      <td>0.000000</td>\n",
       "    </tr>\n",
       "    <tr>\n",
       "      <th>75%</th>\n",
       "      <td>442345.250000</td>\n",
       "      <td>4.000000</td>\n",
       "      <td>0.000000</td>\n",
       "      <td>0.000000</td>\n",
       "      <td>0.000000</td>\n",
       "      <td>0.000000</td>\n",
       "      <td>0.000000</td>\n",
       "    </tr>\n",
       "    <tr>\n",
       "      <th>max</th>\n",
       "      <td>532409.000000</td>\n",
       "      <td>4.000000</td>\n",
       "      <td>71.000000</td>\n",
       "      <td>15.000000</td>\n",
       "      <td>76.000000</td>\n",
       "      <td>21.000000</td>\n",
       "      <td>75.000000</td>\n",
       "    </tr>\n",
       "  </tbody>\n",
       "</table>\n",
       "</div>"
      ],
      "text/plain": [
       "            Tower_Id     Voltage_Id            sd1            sd2  \\\n",
       "count  163880.000000  163880.000000  163880.000000  163880.000000   \n",
       "mean   338645.817659       3.855321       0.426794       0.009415   \n",
       "std    115013.543844       0.436580       1.326141       0.194137   \n",
       "min    130962.000000       1.000000       0.000000       0.000000   \n",
       "25%    238484.750000       4.000000       0.000000       0.000000   \n",
       "50%    351448.500000       4.000000       0.000000       0.000000   \n",
       "75%    442345.250000       4.000000       0.000000       0.000000   \n",
       "max    532409.000000       4.000000      71.000000      15.000000   \n",
       "\n",
       "                 sd3            sd4            sd5  \n",
       "count  163880.000000  163880.000000  163880.000000  \n",
       "mean        0.791475       0.013229       0.675842  \n",
       "std         2.310146       0.226392       2.035451  \n",
       "min         0.000000       0.000000       0.000000  \n",
       "25%         0.000000       0.000000       0.000000  \n",
       "50%         0.000000       0.000000       0.000000  \n",
       "75%         0.000000       0.000000       0.000000  \n",
       "max        76.000000      21.000000      75.000000  "
      ]
     },
     "execution_count": 135,
     "metadata": {},
     "output_type": "execute_result"
    }
   ],
   "source": [
    "data.describe()"
   ]
  },
  {
   "cell_type": "code",
   "execution_count": 136,
   "id": "5ea47abe-86c7-4935-8f82-77fa5de048a8",
   "metadata": {},
   "outputs": [],
   "source": [
    "col=data.columns"
   ]
  },
  {
   "cell_type": "code",
   "execution_count": 137,
   "id": "441d26bb-3506-44ac-a371-69f94142e99f",
   "metadata": {},
   "outputs": [
    {
     "name": "stdout",
     "output_type": "stream",
     "text": [
      "163880\n",
      "[130965 130966 130999 ... 532392 532407 532409]\n",
      "\n",
      "4\n",
      "[4 1 3 2]\n",
      "\n",
      "169\n",
      "['QA' 'DD' 'DA' 'QD' 'QB' 'DC' 'DB' 'A' 'QC' 'B' 'C' 'TP' nan ' DD' 'D'\n",
      " 'SPL C' 'DC+0' 'DA+0' 'DA+3' 'DB+0' 'DD+0' 'DA+6' 'DA+18' 'DB+3' 'DD+6'\n",
      " 'DC+6' 'DD+18' 'DB+6' 'DC+3' 'DD+9' 'ANCHOR TOWER' 'DCT' 'E' 'DE' 'J'\n",
      " 'MA' 'MB' 'MD' 'SPL D' 'SPL B' 'SPL A' 'B+0' 'D+3' 'C+0' 'GANTRY' 'D+0'\n",
      " 'C+3' 'RC' 'D+6' 'B+6' 'A+0' 'C+6' 'D+25' 'DDE+6' 'B+3' 'A+3' 'A+6'\n",
      " 'C+6(TT)' 'DC+9' 'DD+3' 'DC+03' 'DA+03' 'DD+00' 'DA+00' 'DA+06' 'DC+00'\n",
      " 'DDE' 'DA+9' 'TPT' 'DA+O' 'QDH' 'QBH+10.5' 'DB+9' 'DB+00' 'DD+09'\n",
      " 'DC (TAR ROADANP)' 'DDE+0' 'QBH+7.5' 'QDH+16.5' 'DC+0             ( T.P)'\n",
      " 'DD+0    (RC 1.5) (DE)' 'QDH+7.5' 'DD +0' 'CTP' 'DD+000' 'DB+03' 'DB+06'\n",
      " 'D+18' 'QDH+0' 'ANCHOR+9' 'SPL' 'DB+0               (RAISE CHIM' 'DB + 0'\n",
      " 'DB + 9 (+1.5 M RC)' 'S' 'R' 'P' 'Q' 'DD + 0' 'DD+25' 'DC + 0' 'T' 'M'\n",
      " 'DD + 9' 'CR' 'N+0' 'M+0' 'L+0' 'L+3' 'N+6' 'M+6' 'L+6' 'N+3' 'L' 'N'\n",
      " 'D+15' 'XX' 'YY' 'XX+3' 'ZZ' 'YY+0' 'DR' 'M+3' 'B+9' 'DD+15' 'YY+3'\n",
      " 'YY+6' 'N+15' 'BM+0' 'Z' 'DD  D/E' 'TT' 'GTY-I' 'GTY - II' 'ACT' ' A'\n",
      " ' B' ' C' 'S/S GANTRY' 'DD(400KV)' 'SD' 'DC(TT)' 'SA' 'SC' 'SB' 'DC(T)'\n",
      " 'TP/SC' 'DD+06' 'DAS' 'XX+3 M' 'ZZ+3 M' 'YY+3 M' 'MD+0' 'DB+12' 'QD+0'\n",
      " 'D+9' 'C+9' 'MD+6' 'MD+9' 'DC+0(T)' 'DD +3' 'D/E' 'DD+6+ (3.0M RC)'\n",
      " 'D\\xa0' 'SUSPENSION' 'TENSION' 'DDH' 'TT1' 'RC JCK']\n",
      "\n",
      "4\n",
      "['VERTICAL' 'HORIZONTAL' nan 'DELTA']\n",
      "\n",
      "195\n",
      "['FS' 'DFR' 'WET' nan 'WBC' 'DRY' 'PS' 'SS' 'PILE' 'WFR' 'SFR' '2WET+2WFR'\n",
      " 'SFR+PS' 'SRW' 'SRD' 'FS,RS' 'FS+PS' 'FR' 'HR' 'BC' 'WFR+WET' 'PS +WFR'\n",
      " '3/4WET,1/4SRW' 'SANDY' 'WET-B&C,DFR-A&D' 'SHALLOW' '-' 'ROCKY' 'NC'\n",
      " 'W ET' 'PS 3M' 'WET PADDY' 'SPECIAL' 'ND' 'ND-FR' ' DFR' 'PW' 'PFS' 'RFS'\n",
      " 'PSS' 'SANDY SOIL' 'FSS' 'FS (LBS)' '2 PIT-DFR,2 PIT- WFR' 'DAY' 'OPEN'\n",
      " 'P.WET' 'FS & WFR' 'GL' 'P S' 'P' 'F.S' 'WET,PS' 'OPEN CAST' 'PADDYWET'\n",
      " 'PILE FOUNDATION' 'CTH' 'WET,WFR' 'DFR/WFR' 'WGFR' 'SRFS' 'WFR(3M)'\n",
      " 'DFR(3M)' 'SFR(3M)' 'WER' 'NON AVL.' 'FSFR' 'BC+DRY' 'BC DRY' 'PS & WFR'\n",
      " 'WET/DFR' 'PS+WBC' 'DRY-PS' 'HR/DFR' 'DFR/WET' 'F.S.B.C' 'WL' 'FWBC'\n",
      " 'SPL-II' \"P0°00'00S\" 'SPL-I' \"N0°00'00S\" \"S0°00'00R\" '1-SPL-II      3-SR'\n",
      " '1- FWBC          3 SPL-II' '1-SPL-I        3- FWBC' 'PADDY FR' 'SR'\n",
      " 'PS & SFR' 'NS' 'P.S' 'DFR/DRY' 'EFR' ' DRY' 'WF' 'N DRY' 'WFR/PS' 'NDS'\n",
      " 'WFR/WET' 'PS/WFR' 'WFR/WBC' 'WET, PS' 'DFR+WET' 'DRF' 'PS+FS'\n",
      " 'SHALLOW FS' 'SHALLOW DEPTH' 'SD' 'FS(RD)' 'RD(FS)' 'RD' 'FS-2.5M'\n",
      " 'PS-3M' 'WET-3M' 'FS-3M' 'PS-2.5M' 'FS 2.5M' 'FS(SPL)' 'S WET'\n",
      " 'SHALLOW 2M DEP RCC' 'SHALLOW 2M PS' 'FS/SHALLOW' 'PS,SRW'\n",
      " '1/2SRD,1/2SRW' '1/2WET,1/2SRW' 'SPD' 'SALLOW' 'WELL' '1/2SRW,1/2WET'\n",
      " '3/4PS,1/4SRW' 'FS (TENTATIVE)' 'SHALLOW PS' 'SHALLOW 1M PS RCC'\n",
      " 'SHALLOW 2.5M PS' 'RC(3.0)' 'RD(2.5 MTRS)' 'ET' 'DFR/HR' 'DFRU'\n",
      " 'DFRU/DFRA' 'SFRU' 'WET/WFR' 'DRY/DFR' 'DRY-2, DFR-2' 'FS+1MTR RC'\n",
      " 'FS/SFR' 'SPL' 'FS SHALLOW' 'FS/FR' 'FS(SHALLOW)' 'SHALLOW(FS)' 'DEF'\n",
      " 'PS/WET' 'DRY / DFR' 'DFR / DRY' 'DFR&DRY' 'DFR / WET' 'SDR' 'DFR/PS'\n",
      " 'SANDY DRY' 'WET/PS' 'A-D-WFR,B-C-WET' 'WET / WFR' '1DRY3DFR' 'SPL/FS'\n",
      " 'PILE FDN.' 'FS (PILE FDN)' 'SPL/WET' 'DERU/DRY' 'WW' 'SWR' 'PPS' '  PS'\n",
      " 'SWBC' 'PSSR' 'DSR' 'RC/FS' 'RC/DFR' 'WPS' 'WBS' 'F. S.' 'PADDY' 'WC'\n",
      " 'WET  PADDY' 'FS(3MTR)' 'PS(3MTR)' 'WET CUL' 'WET CULT' 'WET(3MTR)' 'WE'\n",
      " 'FS, 3M RC' 'WET CULTIVATED' 'PS, 1.5M RC' 'PS (+1.5 MRC)' 'SPL PIPE']\n",
      "\n",
      "15\n",
      "['IV' 'II' 'IV/ V' 'III' 'VI' 'V' 'I' nan 0 4 'WZ-II' 2 'WZ-4' 'WZ-2' 7]\n",
      "\n",
      "4\n",
      "['MULTI CIRCUIT' 'DOUBLE CIRCUIT' 'SINGLE CIRCUIT' nan]\n",
      "\n",
      "3\n",
      "['NORMAL' 'VULNERABLE' ' NORMAL']\n",
      "\n",
      "10\n",
      "['PLAIN' 'HILLY' 'HILL TERRAIN' 'HILLY TERRAIN' 'SANCTUARY AREA' nan\n",
      " 'FOREST' 'PALIN' 'HILY' 'NORMAL']\n",
      "\n",
      "36\n",
      "[ 1  2 30  0  3 10  4  7  8  6  5 13 28 19  9 16 11 12 27 20 25 14 26 18\n",
      " 15 24 21 37 17 23 31 39 22 71 29 34]\n",
      "\n",
      "14\n",
      "[ 0  1  2  4  3  6  5 15  9  7  8 10 11 12]\n",
      "\n",
      "51\n",
      "[ 0 12  1  6  3  2  7  5 13  4 19  8 10 14  9 16 11 15 29 22 20 18 17 24\n",
      " 26 32 21 31 25 36 28 76 34 23 33 53 30 41 37 35 27 38 47 51 39 42 43 44\n",
      " 61 54 60]\n",
      "\n",
      "15\n",
      "[ 0  1  2  6  3 21  4  5  7 12 13 10 11  8 14]\n",
      "\n",
      "49\n",
      "[ 0  3 12  9  2  1  6  5 14  8  7  4 11 10 13 16 19 26 18 15 17 22 24 36\n",
      " 30 20 38 25 21 37 40 23 33 29 28 39 27 45 43 34 72 75 67 48 66 31 68 53\n",
      " 32]\n",
      "\n"
     ]
    }
   ],
   "source": [
    "for i in col:\n",
    "    print(len(data[i].unique()))     #count of unique values in column\n",
    "    print(data[i].unique())          #list of unique values in a column\n",
    "    print()"
   ]
  },
  {
   "cell_type": "code",
   "execution_count": 138,
   "id": "cbf3c821-bbb7-4725-9eec-758d59e3d7b7",
   "metadata": {},
   "outputs": [
    {
     "name": "stdout",
     "output_type": "stream",
     "text": [
      "Tower_Id             0\n",
      "Voltage_Id           0\n",
      "Tower_Type        2881\n",
      "Tower_Config      4118\n",
      "Fdn_Type         10576\n",
      "Wind_Zone         1415\n",
      "Ckts_on_Tower     1897\n",
      "Vulnerability        0\n",
      "Terrain_Type      4230\n",
      "sd1                  0\n",
      "sd2                  0\n",
      "sd3                  0\n",
      "sd4                  0\n",
      "sd5                  0\n",
      "dtype: int64\n"
     ]
    }
   ],
   "source": [
    "# Count of missing values per column\n",
    "print(data.isnull().sum())"
   ]
  },
  {
   "cell_type": "code",
   "execution_count": 139,
   "id": "54a18273-e0ea-4e6e-9c6d-4af7f13e33cd",
   "metadata": {},
   "outputs": [
    {
     "name": "stdout",
     "output_type": "stream",
     "text": [
      "Tower_Id         0.000000\n",
      "Voltage_Id       0.000000\n",
      "Tower_Type       1.757994\n",
      "Tower_Config     2.512814\n",
      "Fdn_Type         6.453503\n",
      "Wind_Zone        0.863437\n",
      "Ckts_on_Tower    1.157554\n",
      "Vulnerability    0.000000\n",
      "Terrain_Type     2.581157\n",
      "sd1              0.000000\n",
      "sd2              0.000000\n",
      "sd3              0.000000\n",
      "sd4              0.000000\n",
      "sd5              0.000000\n",
      "dtype: float64\n"
     ]
    }
   ],
   "source": [
    "# Percentage of missing values per column\n",
    "print(data.isnull().mean() * 100)"
   ]
  },
  {
   "cell_type": "code",
   "execution_count": 140,
   "id": "cff46594-e209-4b03-8a61-7e5d524b9be7",
   "metadata": {},
   "outputs": [],
   "source": [
    "#filling none values in categorical columns (only categorical columns contain none values in this dataset)\n",
    "\n",
    "for i in col:\n",
    "    data[i].fillna(data[i].mode().iloc[0], inplace=True)"
   ]
  },
  {
   "cell_type": "code",
   "execution_count": 141,
   "id": "9b2cc4a7-7990-4eb5-8ab1-1fa7c2c3e494",
   "metadata": {},
   "outputs": [
    {
     "name": "stdout",
     "output_type": "stream",
     "text": [
      "Tower_Id         0.0\n",
      "Voltage_Id       0.0\n",
      "Tower_Type       0.0\n",
      "Tower_Config     0.0\n",
      "Fdn_Type         0.0\n",
      "Wind_Zone        0.0\n",
      "Ckts_on_Tower    0.0\n",
      "Vulnerability    0.0\n",
      "Terrain_Type     0.0\n",
      "sd1              0.0\n",
      "sd2              0.0\n",
      "sd3              0.0\n",
      "sd4              0.0\n",
      "sd5              0.0\n",
      "dtype: float64\n"
     ]
    }
   ],
   "source": [
    "# Percentage of missing values per column\n",
    "print(data.isnull().mean() * 100)"
   ]
  },
  {
   "cell_type": "code",
   "execution_count": 142,
   "id": "3da3c588-7c3b-44c1-8dbb-2c1edeaa47ff",
   "metadata": {},
   "outputs": [
    {
     "name": "stdout",
     "output_type": "stream",
     "text": [
      "Number of zeros in 'column_name': sd1    135022\n",
      "dtype: int64\n",
      "Number of zeros in 'column_name': sd2    163273\n",
      "dtype: int64\n",
      "Number of zeros in 'column_name': sd3    125509\n",
      "dtype: int64\n",
      "Number of zeros in 'column_name': sd4    162917\n",
      "dtype: int64\n",
      "Number of zeros in 'column_name': sd5    127395\n",
      "dtype: int64\n"
     ]
    }
   ],
   "source": [
    "num_zeros_1 = (data[['sd1']] == 0).sum()\n",
    "print(f\"Number of zeros in 'column_name': {num_zeros_1}\")\n",
    "num_zeros_2 = (data[['sd2']] == 0).sum()\n",
    "print(f\"Number of zeros in 'column_name': {num_zeros_2}\")\n",
    "num_zeros_3 = (data[['sd3']] == 0).sum()\n",
    "print(f\"Number of zeros in 'column_name': {num_zeros_3}\")\n",
    "num_zeros_4= (data[['sd4']] == 0).sum()\n",
    "print(f\"Number of zeros in 'column_name': {num_zeros_4}\")\n",
    "num_zeros_5= (data[['sd5']] == 0).sum()\n",
    "print(f\"Number of zeros in 'column_name': {num_zeros_5}\")"
   ]
  },
  {
   "cell_type": "code",
   "execution_count": 143,
   "id": "adb21f6a-4981-4839-8b94-f06764a3efb5",
   "metadata": {},
   "outputs": [],
   "source": [
    "roman_to_int = {'I': 1, 'II': 2, 'III': 3, 'IV': 4, 'V': 5, 'VI': 6, 'VII': 7, 'VIII': 8, 'IX': 9, 'X': 10}\n",
    "data['Wind_Zone'] = data['Wind_Zone'].map(roman_to_int)"
   ]
  },
  {
   "cell_type": "code",
   "execution_count": 144,
   "id": "5d2d6a99-d276-42aa-aaa0-a7cc555a3b85",
   "metadata": {},
   "outputs": [],
   "source": [
    "#if any defects, converting value to 1\n",
    "data[['sd1', 'sd2','sd3','sd4','sd5']] = data[['sd1', 'sd2','sd3','sd4','sd5']].applymap(lambda x: 1 if x > 0 else x)"
   ]
  },
  {
   "cell_type": "code",
   "execution_count": 145,
   "id": "bd7d4770-8c6b-4e84-b4e5-d497caad3e9e",
   "metadata": {},
   "outputs": [],
   "source": [
    "data.drop('Tower_Id',axis=1,inplace=True)"
   ]
  },
  {
   "cell_type": "code",
   "execution_count": 146,
   "id": "bf136ce5-7901-48a1-8993-b14ba696ced2",
   "metadata": {},
   "outputs": [],
   "source": [
    "#converting categorical labels into numerical format\n",
    "from sklearn.preprocessing import LabelEncoder\n",
    "label_encoder= LabelEncoder()\n",
    "scaler= MinMaxScaler()\n",
    "for i in col[1:9]:\n",
    "    data[i] = label_encoder.fit_transform(data[i])\n",
    "\n",
    "for i in col[1:14]:\n",
    "     # Reshape to ensure it's a 2D array with a single feature (column)\n",
    "    scaled_values = scaler.fit_transform(data[i].values.reshape(-1, 1))\n",
    "    # Assign back to DataFrame\n",
    "    data[i] = scaled_values"
   ]
  },
  {
   "cell_type": "code",
   "execution_count": 147,
   "id": "871f5a57-baff-44c9-a5a8-a4635dae5d85",
   "metadata": {},
   "outputs": [
    {
     "data": {
      "text/html": [
       "<div>\n",
       "<style scoped>\n",
       "    .dataframe tbody tr th:only-of-type {\n",
       "        vertical-align: middle;\n",
       "    }\n",
       "\n",
       "    .dataframe tbody tr th {\n",
       "        vertical-align: top;\n",
       "    }\n",
       "\n",
       "    .dataframe thead th {\n",
       "        text-align: right;\n",
       "    }\n",
       "</style>\n",
       "<table border=\"1\" class=\"dataframe\">\n",
       "  <thead>\n",
       "    <tr style=\"text-align: right;\">\n",
       "      <th></th>\n",
       "      <th>Voltage_Id</th>\n",
       "      <th>Tower_Type</th>\n",
       "      <th>Tower_Config</th>\n",
       "      <th>Fdn_Type</th>\n",
       "      <th>Wind_Zone</th>\n",
       "      <th>Ckts_on_Tower</th>\n",
       "      <th>Vulnerability</th>\n",
       "      <th>Terrain_Type</th>\n",
       "      <th>sd1</th>\n",
       "      <th>sd2</th>\n",
       "      <th>sd3</th>\n",
       "      <th>sd4</th>\n",
       "      <th>sd5</th>\n",
       "    </tr>\n",
       "  </thead>\n",
       "  <tbody>\n",
       "    <tr>\n",
       "      <th>0</th>\n",
       "      <td>1.0</td>\n",
       "      <td>0.742515</td>\n",
       "      <td>1.0</td>\n",
       "      <td>0.253886</td>\n",
       "      <td>0.5</td>\n",
       "      <td>0.5</td>\n",
       "      <td>0.5</td>\n",
       "      <td>0.875</td>\n",
       "      <td>1.0</td>\n",
       "      <td>0.0</td>\n",
       "      <td>0.0</td>\n",
       "      <td>0.0</td>\n",
       "      <td>0.0</td>\n",
       "    </tr>\n",
       "    <tr>\n",
       "      <th>1</th>\n",
       "      <td>1.0</td>\n",
       "      <td>0.425150</td>\n",
       "      <td>1.0</td>\n",
       "      <td>0.119171</td>\n",
       "      <td>0.5</td>\n",
       "      <td>0.0</td>\n",
       "      <td>0.5</td>\n",
       "      <td>0.250</td>\n",
       "      <td>1.0</td>\n",
       "      <td>0.0</td>\n",
       "      <td>0.0</td>\n",
       "      <td>0.0</td>\n",
       "      <td>1.0</td>\n",
       "    </tr>\n",
       "    <tr>\n",
       "      <th>2</th>\n",
       "      <td>1.0</td>\n",
       "      <td>0.203593</td>\n",
       "      <td>1.0</td>\n",
       "      <td>0.865285</td>\n",
       "      <td>0.5</td>\n",
       "      <td>0.0</td>\n",
       "      <td>0.5</td>\n",
       "      <td>0.875</td>\n",
       "      <td>1.0</td>\n",
       "      <td>0.0</td>\n",
       "      <td>0.0</td>\n",
       "      <td>0.0</td>\n",
       "      <td>0.0</td>\n",
       "    </tr>\n",
       "    <tr>\n",
       "      <th>3</th>\n",
       "      <td>1.0</td>\n",
       "      <td>0.772455</td>\n",
       "      <td>1.0</td>\n",
       "      <td>0.253886</td>\n",
       "      <td>0.5</td>\n",
       "      <td>0.5</td>\n",
       "      <td>0.5</td>\n",
       "      <td>0.875</td>\n",
       "      <td>1.0</td>\n",
       "      <td>0.0</td>\n",
       "      <td>0.0</td>\n",
       "      <td>0.0</td>\n",
       "      <td>0.0</td>\n",
       "    </tr>\n",
       "    <tr>\n",
       "      <th>4</th>\n",
       "      <td>1.0</td>\n",
       "      <td>0.772455</td>\n",
       "      <td>1.0</td>\n",
       "      <td>0.253886</td>\n",
       "      <td>0.5</td>\n",
       "      <td>0.5</td>\n",
       "      <td>0.5</td>\n",
       "      <td>0.875</td>\n",
       "      <td>1.0</td>\n",
       "      <td>0.0</td>\n",
       "      <td>0.0</td>\n",
       "      <td>0.0</td>\n",
       "      <td>0.0</td>\n",
       "    </tr>\n",
       "  </tbody>\n",
       "</table>\n",
       "</div>"
      ],
      "text/plain": [
       "   Voltage_Id  Tower_Type  Tower_Config  Fdn_Type  Wind_Zone  Ckts_on_Tower  \\\n",
       "0         1.0    0.742515           1.0  0.253886        0.5            0.5   \n",
       "1         1.0    0.425150           1.0  0.119171        0.5            0.0   \n",
       "2         1.0    0.203593           1.0  0.865285        0.5            0.0   \n",
       "3         1.0    0.772455           1.0  0.253886        0.5            0.5   \n",
       "4         1.0    0.772455           1.0  0.253886        0.5            0.5   \n",
       "\n",
       "   Vulnerability  Terrain_Type  sd1  sd2  sd3  sd4  sd5  \n",
       "0            0.5         0.875  1.0  0.0  0.0  0.0  0.0  \n",
       "1            0.5         0.250  1.0  0.0  0.0  0.0  1.0  \n",
       "2            0.5         0.875  1.0  0.0  0.0  0.0  0.0  \n",
       "3            0.5         0.875  1.0  0.0  0.0  0.0  0.0  \n",
       "4            0.5         0.875  1.0  0.0  0.0  0.0  0.0  "
      ]
     },
     "execution_count": 147,
     "metadata": {},
     "output_type": "execute_result"
    }
   ],
   "source": [
    "data.head()\n"
   ]
  },
  {
   "cell_type": "code",
   "execution_count": 148,
   "id": "d412dc67-0e23-4e01-9fdf-253bc8c194c9",
   "metadata": {},
   "outputs": [],
   "source": [
    "target=data[['sd5']]\n",
    "y=target.to_numpy()"
   ]
  },
  {
   "cell_type": "code",
   "execution_count": 149,
   "id": "22a09070-e504-4b62-aef1-0b75543ef27d",
   "metadata": {},
   "outputs": [
    {
     "data": {
      "text/plain": [
       "(163880, 1)"
      ]
     },
     "execution_count": 149,
     "metadata": {},
     "output_type": "execute_result"
    }
   ],
   "source": [
    "y.shape"
   ]
  },
  {
   "cell_type": "code",
   "execution_count": 150,
   "id": "582e56c0-0d57-4035-a72c-f0a3428325ea",
   "metadata": {},
   "outputs": [],
   "source": [
    "data.drop('sd5',axis=1,inplace=True)"
   ]
  },
  {
   "cell_type": "code",
   "execution_count": 151,
   "id": "4c1e7ec8-3026-4f3a-b43b-e579c62457ff",
   "metadata": {},
   "outputs": [
    {
     "data": {
      "text/plain": [
       "(163880, 12)"
      ]
     },
     "execution_count": 151,
     "metadata": {},
     "output_type": "execute_result"
    }
   ],
   "source": [
    "data.shape\n"
   ]
  },
  {
   "cell_type": "code",
   "execution_count": 152,
   "id": "0a543a56-1a2d-4a81-8622-b66b8db05a15",
   "metadata": {},
   "outputs": [],
   "source": [
    "# Extract values as a NumPy array\n",
    "data_array = data.values\n",
    "\n",
    "n_features = 1\n",
    "\n",
    "# Reshape the array (assuming [samples, timesteps] shape)\n",
    "data_reshaped = data_array.reshape((data_array.shape[0], data_array.shape[1], n_features))"
   ]
  },
  {
   "cell_type": "code",
   "execution_count": 153,
   "id": "0a121f1e-7a35-4f32-bf4a-26d95588abd1",
   "metadata": {},
   "outputs": [
    {
     "data": {
      "text/plain": [
       "(163880, 12, 1)"
      ]
     },
     "execution_count": 153,
     "metadata": {},
     "output_type": "execute_result"
    }
   ],
   "source": [
    "data_reshaped.shape"
   ]
  },
  {
   "cell_type": "markdown",
   "id": "927f782e-d564-4fa6-8a0b-2c1908e6e199",
   "metadata": {},
   "source": [
    "# Building LSTM Model"
   ]
  },
  {
   "cell_type": "code",
   "execution_count": 154,
   "id": "e0e9a53f-e280-4d6b-9058-3daac91327af",
   "metadata": {},
   "outputs": [],
   "source": [
    "X_train, X_test, y_train, y_test = train_test_split(data_reshaped, y, test_size=0.2, random_state=42)"
   ]
  },
  {
   "cell_type": "code",
   "execution_count": 155,
   "id": "97bb23b3-8821-4902-a11b-6fb181b92190",
   "metadata": {},
   "outputs": [
    {
     "name": "stderr",
     "output_type": "stream",
     "text": [
      "C:\\Users\\91959\\AppData\\Local\\Programs\\Python\\Python39\\lib\\site-packages\\keras\\src\\layers\\rnn\\rnn.py:204: UserWarning: Do not pass an `input_shape`/`input_dim` argument to a layer. When using Sequential models, prefer using an `Input(shape)` object as the first layer in the model instead.\n",
      "  super().__init__(**kwargs)\n"
     ]
    },
    {
     "data": {
      "text/html": [
       "<pre style=\"white-space:pre;overflow-x:auto;line-height:normal;font-family:Menlo,'DejaVu Sans Mono',consolas,'Courier New',monospace\"><span style=\"font-weight: bold\">Model: \"sequential_6\"</span>\n",
       "</pre>\n"
      ],
      "text/plain": [
       "\u001b[1mModel: \"sequential_6\"\u001b[0m\n"
      ]
     },
     "metadata": {},
     "output_type": "display_data"
    },
    {
     "data": {
      "text/html": [
       "<pre style=\"white-space:pre;overflow-x:auto;line-height:normal;font-family:Menlo,'DejaVu Sans Mono',consolas,'Courier New',monospace\">┏━━━━━━━━━━━━━━━━━━━━━━━━━━━━━━━━━━━━━━┳━━━━━━━━━━━━━━━━━━━━━━━━━━━━━┳━━━━━━━━━━━━━━━━━┓\n",
       "┃<span style=\"font-weight: bold\"> Layer (type)                         </span>┃<span style=\"font-weight: bold\"> Output Shape                </span>┃<span style=\"font-weight: bold\">         Param # </span>┃\n",
       "┡━━━━━━━━━━━━━━━━━━━━━━━━━━━━━━━━━━━━━━╇━━━━━━━━━━━━━━━━━━━━━━━━━━━━━╇━━━━━━━━━━━━━━━━━┩\n",
       "│ lstm_18 (<span style=\"color: #0087ff; text-decoration-color: #0087ff\">LSTM</span>)                       │ (<span style=\"color: #00d7ff; text-decoration-color: #00d7ff\">None</span>, <span style=\"color: #00af00; text-decoration-color: #00af00\">12</span>, <span style=\"color: #00af00; text-decoration-color: #00af00\">128</span>)             │          <span style=\"color: #00af00; text-decoration-color: #00af00\">66,560</span> │\n",
       "├──────────────────────────────────────┼─────────────────────────────┼─────────────────┤\n",
       "│ dropout_18 (<span style=\"color: #0087ff; text-decoration-color: #0087ff\">Dropout</span>)                 │ (<span style=\"color: #00d7ff; text-decoration-color: #00d7ff\">None</span>, <span style=\"color: #00af00; text-decoration-color: #00af00\">12</span>, <span style=\"color: #00af00; text-decoration-color: #00af00\">128</span>)             │               <span style=\"color: #00af00; text-decoration-color: #00af00\">0</span> │\n",
       "├──────────────────────────────────────┼─────────────────────────────┼─────────────────┤\n",
       "│ lstm_19 (<span style=\"color: #0087ff; text-decoration-color: #0087ff\">LSTM</span>)                       │ (<span style=\"color: #00d7ff; text-decoration-color: #00d7ff\">None</span>, <span style=\"color: #00af00; text-decoration-color: #00af00\">12</span>, <span style=\"color: #00af00; text-decoration-color: #00af00\">64</span>)              │          <span style=\"color: #00af00; text-decoration-color: #00af00\">49,408</span> │\n",
       "├──────────────────────────────────────┼─────────────────────────────┼─────────────────┤\n",
       "│ dropout_19 (<span style=\"color: #0087ff; text-decoration-color: #0087ff\">Dropout</span>)                 │ (<span style=\"color: #00d7ff; text-decoration-color: #00d7ff\">None</span>, <span style=\"color: #00af00; text-decoration-color: #00af00\">12</span>, <span style=\"color: #00af00; text-decoration-color: #00af00\">64</span>)              │               <span style=\"color: #00af00; text-decoration-color: #00af00\">0</span> │\n",
       "├──────────────────────────────────────┼─────────────────────────────┼─────────────────┤\n",
       "│ lstm_20 (<span style=\"color: #0087ff; text-decoration-color: #0087ff\">LSTM</span>)                       │ (<span style=\"color: #00d7ff; text-decoration-color: #00d7ff\">None</span>, <span style=\"color: #00af00; text-decoration-color: #00af00\">32</span>)                  │          <span style=\"color: #00af00; text-decoration-color: #00af00\">12,416</span> │\n",
       "├──────────────────────────────────────┼─────────────────────────────┼─────────────────┤\n",
       "│ dropout_20 (<span style=\"color: #0087ff; text-decoration-color: #0087ff\">Dropout</span>)                 │ (<span style=\"color: #00d7ff; text-decoration-color: #00d7ff\">None</span>, <span style=\"color: #00af00; text-decoration-color: #00af00\">32</span>)                  │               <span style=\"color: #00af00; text-decoration-color: #00af00\">0</span> │\n",
       "├──────────────────────────────────────┼─────────────────────────────┼─────────────────┤\n",
       "│ dense_12 (<span style=\"color: #0087ff; text-decoration-color: #0087ff\">Dense</span>)                     │ (<span style=\"color: #00d7ff; text-decoration-color: #00d7ff\">None</span>, <span style=\"color: #00af00; text-decoration-color: #00af00\">16</span>)                  │             <span style=\"color: #00af00; text-decoration-color: #00af00\">528</span> │\n",
       "├──────────────────────────────────────┼─────────────────────────────┼─────────────────┤\n",
       "│ dense_13 (<span style=\"color: #0087ff; text-decoration-color: #0087ff\">Dense</span>)                     │ (<span style=\"color: #00d7ff; text-decoration-color: #00d7ff\">None</span>, <span style=\"color: #00af00; text-decoration-color: #00af00\">1</span>)                   │              <span style=\"color: #00af00; text-decoration-color: #00af00\">17</span> │\n",
       "└──────────────────────────────────────┴─────────────────────────────┴─────────────────┘\n",
       "</pre>\n"
      ],
      "text/plain": [
       "┏━━━━━━━━━━━━━━━━━━━━━━━━━━━━━━━━━━━━━━┳━━━━━━━━━━━━━━━━━━━━━━━━━━━━━┳━━━━━━━━━━━━━━━━━┓\n",
       "┃\u001b[1m \u001b[0m\u001b[1mLayer (type)                        \u001b[0m\u001b[1m \u001b[0m┃\u001b[1m \u001b[0m\u001b[1mOutput Shape               \u001b[0m\u001b[1m \u001b[0m┃\u001b[1m \u001b[0m\u001b[1m        Param #\u001b[0m\u001b[1m \u001b[0m┃\n",
       "┡━━━━━━━━━━━━━━━━━━━━━━━━━━━━━━━━━━━━━━╇━━━━━━━━━━━━━━━━━━━━━━━━━━━━━╇━━━━━━━━━━━━━━━━━┩\n",
       "│ lstm_18 (\u001b[38;5;33mLSTM\u001b[0m)                       │ (\u001b[38;5;45mNone\u001b[0m, \u001b[38;5;34m12\u001b[0m, \u001b[38;5;34m128\u001b[0m)             │          \u001b[38;5;34m66,560\u001b[0m │\n",
       "├──────────────────────────────────────┼─────────────────────────────┼─────────────────┤\n",
       "│ dropout_18 (\u001b[38;5;33mDropout\u001b[0m)                 │ (\u001b[38;5;45mNone\u001b[0m, \u001b[38;5;34m12\u001b[0m, \u001b[38;5;34m128\u001b[0m)             │               \u001b[38;5;34m0\u001b[0m │\n",
       "├──────────────────────────────────────┼─────────────────────────────┼─────────────────┤\n",
       "│ lstm_19 (\u001b[38;5;33mLSTM\u001b[0m)                       │ (\u001b[38;5;45mNone\u001b[0m, \u001b[38;5;34m12\u001b[0m, \u001b[38;5;34m64\u001b[0m)              │          \u001b[38;5;34m49,408\u001b[0m │\n",
       "├──────────────────────────────────────┼─────────────────────────────┼─────────────────┤\n",
       "│ dropout_19 (\u001b[38;5;33mDropout\u001b[0m)                 │ (\u001b[38;5;45mNone\u001b[0m, \u001b[38;5;34m12\u001b[0m, \u001b[38;5;34m64\u001b[0m)              │               \u001b[38;5;34m0\u001b[0m │\n",
       "├──────────────────────────────────────┼─────────────────────────────┼─────────────────┤\n",
       "│ lstm_20 (\u001b[38;5;33mLSTM\u001b[0m)                       │ (\u001b[38;5;45mNone\u001b[0m, \u001b[38;5;34m32\u001b[0m)                  │          \u001b[38;5;34m12,416\u001b[0m │\n",
       "├──────────────────────────────────────┼─────────────────────────────┼─────────────────┤\n",
       "│ dropout_20 (\u001b[38;5;33mDropout\u001b[0m)                 │ (\u001b[38;5;45mNone\u001b[0m, \u001b[38;5;34m32\u001b[0m)                  │               \u001b[38;5;34m0\u001b[0m │\n",
       "├──────────────────────────────────────┼─────────────────────────────┼─────────────────┤\n",
       "│ dense_12 (\u001b[38;5;33mDense\u001b[0m)                     │ (\u001b[38;5;45mNone\u001b[0m, \u001b[38;5;34m16\u001b[0m)                  │             \u001b[38;5;34m528\u001b[0m │\n",
       "├──────────────────────────────────────┼─────────────────────────────┼─────────────────┤\n",
       "│ dense_13 (\u001b[38;5;33mDense\u001b[0m)                     │ (\u001b[38;5;45mNone\u001b[0m, \u001b[38;5;34m1\u001b[0m)                   │              \u001b[38;5;34m17\u001b[0m │\n",
       "└──────────────────────────────────────┴─────────────────────────────┴─────────────────┘\n"
      ]
     },
     "metadata": {},
     "output_type": "display_data"
    },
    {
     "data": {
      "text/html": [
       "<pre style=\"white-space:pre;overflow-x:auto;line-height:normal;font-family:Menlo,'DejaVu Sans Mono',consolas,'Courier New',monospace\"><span style=\"font-weight: bold\"> Total params: </span><span style=\"color: #00af00; text-decoration-color: #00af00\">128,929</span> (503.63 KB)\n",
       "</pre>\n"
      ],
      "text/plain": [
       "\u001b[1m Total params: \u001b[0m\u001b[38;5;34m128,929\u001b[0m (503.63 KB)\n"
      ]
     },
     "metadata": {},
     "output_type": "display_data"
    },
    {
     "data": {
      "text/html": [
       "<pre style=\"white-space:pre;overflow-x:auto;line-height:normal;font-family:Menlo,'DejaVu Sans Mono',consolas,'Courier New',monospace\"><span style=\"font-weight: bold\"> Trainable params: </span><span style=\"color: #00af00; text-decoration-color: #00af00\">128,929</span> (503.63 KB)\n",
       "</pre>\n"
      ],
      "text/plain": [
       "\u001b[1m Trainable params: \u001b[0m\u001b[38;5;34m128,929\u001b[0m (503.63 KB)\n"
      ]
     },
     "metadata": {},
     "output_type": "display_data"
    },
    {
     "data": {
      "text/html": [
       "<pre style=\"white-space:pre;overflow-x:auto;line-height:normal;font-family:Menlo,'DejaVu Sans Mono',consolas,'Courier New',monospace\"><span style=\"font-weight: bold\"> Non-trainable params: </span><span style=\"color: #00af00; text-decoration-color: #00af00\">0</span> (0.00 B)\n",
       "</pre>\n"
      ],
      "text/plain": [
       "\u001b[1m Non-trainable params: \u001b[0m\u001b[38;5;34m0\u001b[0m (0.00 B)\n"
      ]
     },
     "metadata": {},
     "output_type": "display_data"
    }
   ],
   "source": [
    "model = Sequential([\n",
    "    LSTM(128, return_sequences=True, input_shape=(data_reshaped.shape[1],data_reshaped.shape[2])),\n",
    "    Dropout(0.3),\n",
    "    LSTM(64, return_sequences=True),\n",
    "    Dropout(0.3),\n",
    "    LSTM(32),\n",
    "    Dropout(0.3),\n",
    "    Dense(16, activation='relu'),\n",
    "    Dense(1)\n",
    "])\n",
    "model.compile(optimizer='Adam', loss='mse')\n",
    "\n",
    "early_stopping = EarlyStopping(monitor='val_loss', patience=5, restore_best_weights=True)\n",
    "\n",
    "model.summary()\n",
    "\n"
   ]
  },
  {
   "cell_type": "code",
   "execution_count": 156,
   "id": "c6d1350d-b680-40e0-886b-60154b30a2a9",
   "metadata": {},
   "outputs": [
    {
     "name": "stdout",
     "output_type": "stream",
     "text": [
      "Epoch 1/100\n",
      "\u001b[1m1639/1639\u001b[0m \u001b[32m━━━━━━━━━━━━━━━━━━━━\u001b[0m\u001b[37m\u001b[0m \u001b[1m31s\u001b[0m 17ms/step - loss: 0.1594 - val_loss: 0.1527\n",
      "Epoch 2/100\n",
      "\u001b[1m1639/1639\u001b[0m \u001b[32m━━━━━━━━━━━━━━━━━━━━\u001b[0m\u001b[37m\u001b[0m \u001b[1m28s\u001b[0m 17ms/step - loss: 0.1511 - val_loss: 0.1525\n",
      "Epoch 3/100\n",
      "\u001b[1m1639/1639\u001b[0m \u001b[32m━━━━━━━━━━━━━━━━━━━━\u001b[0m\u001b[37m\u001b[0m \u001b[1m27s\u001b[0m 17ms/step - loss: 0.1508 - val_loss: 0.1523\n",
      "Epoch 4/100\n",
      "\u001b[1m1639/1639\u001b[0m \u001b[32m━━━━━━━━━━━━━━━━━━━━\u001b[0m\u001b[37m\u001b[0m \u001b[1m28s\u001b[0m 17ms/step - loss: 0.1523 - val_loss: 0.1522\n",
      "Epoch 5/100\n",
      "\u001b[1m1639/1639\u001b[0m \u001b[32m━━━━━━━━━━━━━━━━━━━━\u001b[0m\u001b[37m\u001b[0m \u001b[1m29s\u001b[0m 18ms/step - loss: 0.1514 - val_loss: 0.1520\n",
      "Epoch 6/100\n",
      "\u001b[1m1639/1639\u001b[0m \u001b[32m━━━━━━━━━━━━━━━━━━━━\u001b[0m\u001b[37m\u001b[0m \u001b[1m29s\u001b[0m 18ms/step - loss: 0.1497 - val_loss: 0.1521\n",
      "Epoch 7/100\n",
      "\u001b[1m1639/1639\u001b[0m \u001b[32m━━━━━━━━━━━━━━━━━━━━\u001b[0m\u001b[37m\u001b[0m \u001b[1m29s\u001b[0m 18ms/step - loss: 0.1517 - val_loss: 0.1518\n",
      "Epoch 8/100\n",
      "\u001b[1m1639/1639\u001b[0m \u001b[32m━━━━━━━━━━━━━━━━━━━━\u001b[0m\u001b[37m\u001b[0m \u001b[1m30s\u001b[0m 18ms/step - loss: 0.1499 - val_loss: 0.1528\n",
      "Epoch 9/100\n",
      "\u001b[1m1639/1639\u001b[0m \u001b[32m━━━━━━━━━━━━━━━━━━━━\u001b[0m\u001b[37m\u001b[0m \u001b[1m30s\u001b[0m 18ms/step - loss: 0.1501 - val_loss: 0.1511\n",
      "Epoch 10/100\n",
      "\u001b[1m1639/1639\u001b[0m \u001b[32m━━━━━━━━━━━━━━━━━━━━\u001b[0m\u001b[37m\u001b[0m \u001b[1m30s\u001b[0m 18ms/step - loss: 0.1499 - val_loss: 0.1504\n",
      "Epoch 11/100\n",
      "\u001b[1m1639/1639\u001b[0m \u001b[32m━━━━━━━━━━━━━━━━━━━━\u001b[0m\u001b[37m\u001b[0m \u001b[1m30s\u001b[0m 18ms/step - loss: 0.1487 - val_loss: 0.1504\n",
      "Epoch 12/100\n",
      "\u001b[1m1639/1639\u001b[0m \u001b[32m━━━━━━━━━━━━━━━━━━━━\u001b[0m\u001b[37m\u001b[0m \u001b[1m32s\u001b[0m 20ms/step - loss: 0.1487 - val_loss: 0.1501\n",
      "Epoch 13/100\n",
      "\u001b[1m1639/1639\u001b[0m \u001b[32m━━━━━━━━━━━━━━━━━━━━\u001b[0m\u001b[37m\u001b[0m \u001b[1m31s\u001b[0m 19ms/step - loss: 0.1485 - val_loss: 0.1491\n",
      "Epoch 14/100\n",
      "\u001b[1m1639/1639\u001b[0m \u001b[32m━━━━━━━━━━━━━━━━━━━━\u001b[0m\u001b[37m\u001b[0m \u001b[1m31s\u001b[0m 19ms/step - loss: 0.1471 - val_loss: 0.1491\n",
      "Epoch 15/100\n",
      "\u001b[1m1639/1639\u001b[0m \u001b[32m━━━━━━━━━━━━━━━━━━━━\u001b[0m\u001b[37m\u001b[0m \u001b[1m31s\u001b[0m 19ms/step - loss: 0.1483 - val_loss: 0.1493\n",
      "Epoch 16/100\n",
      "\u001b[1m1639/1639\u001b[0m \u001b[32m━━━━━━━━━━━━━━━━━━━━\u001b[0m\u001b[37m\u001b[0m \u001b[1m30s\u001b[0m 18ms/step - loss: 0.1470 - val_loss: 0.1488\n",
      "Epoch 17/100\n",
      "\u001b[1m1639/1639\u001b[0m \u001b[32m━━━━━━━━━━━━━━━━━━━━\u001b[0m\u001b[37m\u001b[0m \u001b[1m30s\u001b[0m 19ms/step - loss: 0.1475 - val_loss: 0.1491\n",
      "Epoch 18/100\n",
      "\u001b[1m1639/1639\u001b[0m \u001b[32m━━━━━━━━━━━━━━━━━━━━\u001b[0m\u001b[37m\u001b[0m \u001b[1m31s\u001b[0m 19ms/step - loss: 0.1470 - val_loss: 0.1486\n",
      "Epoch 19/100\n",
      "\u001b[1m1639/1639\u001b[0m \u001b[32m━━━━━━━━━━━━━━━━━━━━\u001b[0m\u001b[37m\u001b[0m \u001b[1m32s\u001b[0m 20ms/step - loss: 0.1467 - val_loss: 0.1492\n",
      "Epoch 20/100\n",
      "\u001b[1m1639/1639\u001b[0m \u001b[32m━━━━━━━━━━━━━━━━━━━━\u001b[0m\u001b[37m\u001b[0m \u001b[1m34s\u001b[0m 21ms/step - loss: 0.1471 - val_loss: 0.1479\n",
      "Epoch 21/100\n",
      "\u001b[1m1639/1639\u001b[0m \u001b[32m━━━━━━━━━━━━━━━━━━━━\u001b[0m\u001b[37m\u001b[0m \u001b[1m33s\u001b[0m 20ms/step - loss: 0.1465 - val_loss: 0.1486\n",
      "Epoch 22/100\n",
      "\u001b[1m1639/1639\u001b[0m \u001b[32m━━━━━━━━━━━━━━━━━━━━\u001b[0m\u001b[37m\u001b[0m \u001b[1m33s\u001b[0m 20ms/step - loss: 0.1462 - val_loss: 0.1482\n",
      "Epoch 23/100\n",
      "\u001b[1m1639/1639\u001b[0m \u001b[32m━━━━━━━━━━━━━━━━━━━━\u001b[0m\u001b[37m\u001b[0m \u001b[1m32s\u001b[0m 20ms/step - loss: 0.1462 - val_loss: 0.1482\n",
      "Epoch 24/100\n",
      "\u001b[1m1639/1639\u001b[0m \u001b[32m━━━━━━━━━━━━━━━━━━━━\u001b[0m\u001b[37m\u001b[0m \u001b[1m33s\u001b[0m 20ms/step - loss: 0.1456 - val_loss: 0.1480\n",
      "Epoch 25/100\n",
      "\u001b[1m1639/1639\u001b[0m \u001b[32m━━━━━━━━━━━━━━━━━━━━\u001b[0m\u001b[37m\u001b[0m \u001b[1m34s\u001b[0m 21ms/step - loss: 0.1454 - val_loss: 0.1478\n",
      "Epoch 26/100\n",
      "\u001b[1m1639/1639\u001b[0m \u001b[32m━━━━━━━━━━━━━━━━━━━━\u001b[0m\u001b[37m\u001b[0m \u001b[1m39s\u001b[0m 24ms/step - loss: 0.1465 - val_loss: 0.1480\n",
      "Epoch 27/100\n",
      "\u001b[1m1639/1639\u001b[0m \u001b[32m━━━━━━━━━━━━━━━━━━━━\u001b[0m\u001b[37m\u001b[0m \u001b[1m42s\u001b[0m 25ms/step - loss: 0.1460 - val_loss: 0.1478\n",
      "Epoch 28/100\n",
      "\u001b[1m1639/1639\u001b[0m \u001b[32m━━━━━━━━━━━━━━━━━━━━\u001b[0m\u001b[37m\u001b[0m \u001b[1m38s\u001b[0m 23ms/step - loss: 0.1451 - val_loss: 0.1478\n",
      "Epoch 29/100\n",
      "\u001b[1m1639/1639\u001b[0m \u001b[32m━━━━━━━━━━━━━━━━━━━━\u001b[0m\u001b[37m\u001b[0m \u001b[1m38s\u001b[0m 23ms/step - loss: 0.1464 - val_loss: 0.1484\n",
      "Epoch 30/100\n",
      "\u001b[1m1639/1639\u001b[0m \u001b[32m━━━━━━━━━━━━━━━━━━━━\u001b[0m\u001b[37m\u001b[0m \u001b[1m38s\u001b[0m 23ms/step - loss: 0.1460 - val_loss: 0.1477\n",
      "Epoch 31/100\n",
      "\u001b[1m1639/1639\u001b[0m \u001b[32m━━━━━━━━━━━━━━━━━━━━\u001b[0m\u001b[37m\u001b[0m \u001b[1m37s\u001b[0m 22ms/step - loss: 0.1445 - val_loss: 0.1481\n",
      "Epoch 32/100\n",
      "\u001b[1m1639/1639\u001b[0m \u001b[32m━━━━━━━━━━━━━━━━━━━━\u001b[0m\u001b[37m\u001b[0m \u001b[1m34s\u001b[0m 21ms/step - loss: 0.1462 - val_loss: 0.1479\n",
      "Epoch 33/100\n",
      "\u001b[1m1639/1639\u001b[0m \u001b[32m━━━━━━━━━━━━━━━━━━━━\u001b[0m\u001b[37m\u001b[0m \u001b[1m33s\u001b[0m 20ms/step - loss: 0.1453 - val_loss: 0.1475\n",
      "Epoch 34/100\n",
      "\u001b[1m1639/1639\u001b[0m \u001b[32m━━━━━━━━━━━━━━━━━━━━\u001b[0m\u001b[37m\u001b[0m \u001b[1m34s\u001b[0m 20ms/step - loss: 0.1458 - val_loss: 0.1473\n",
      "Epoch 35/100\n",
      "\u001b[1m1639/1639\u001b[0m \u001b[32m━━━━━━━━━━━━━━━━━━━━\u001b[0m\u001b[37m\u001b[0m \u001b[1m35s\u001b[0m 21ms/step - loss: 0.1446 - val_loss: 0.1474\n",
      "Epoch 36/100\n",
      "\u001b[1m1639/1639\u001b[0m \u001b[32m━━━━━━━━━━━━━━━━━━━━\u001b[0m\u001b[37m\u001b[0m \u001b[1m34s\u001b[0m 21ms/step - loss: 0.1449 - val_loss: 0.1473\n",
      "Epoch 37/100\n",
      "\u001b[1m1639/1639\u001b[0m \u001b[32m━━━━━━━━━━━━━━━━━━━━\u001b[0m\u001b[37m\u001b[0m \u001b[1m34s\u001b[0m 21ms/step - loss: 0.1461 - val_loss: 0.1480\n",
      "Epoch 38/100\n",
      "\u001b[1m1639/1639\u001b[0m \u001b[32m━━━━━━━━━━━━━━━━━━━━\u001b[0m\u001b[37m\u001b[0m \u001b[1m34s\u001b[0m 21ms/step - loss: 0.1455 - val_loss: 0.1470\n",
      "Epoch 39/100\n",
      "\u001b[1m1639/1639\u001b[0m \u001b[32m━━━━━━━━━━━━━━━━━━━━\u001b[0m\u001b[37m\u001b[0m \u001b[1m38s\u001b[0m 23ms/step - loss: 0.1446 - val_loss: 0.1467\n",
      "Epoch 40/100\n",
      "\u001b[1m1639/1639\u001b[0m \u001b[32m━━━━━━━━━━━━━━━━━━━━\u001b[0m\u001b[37m\u001b[0m \u001b[1m35s\u001b[0m 21ms/step - loss: 0.1451 - val_loss: 0.1468\n",
      "Epoch 41/100\n",
      "\u001b[1m1639/1639\u001b[0m \u001b[32m━━━━━━━━━━━━━━━━━━━━\u001b[0m\u001b[37m\u001b[0m \u001b[1m36s\u001b[0m 22ms/step - loss: 0.1443 - val_loss: 0.1470\n",
      "Epoch 42/100\n",
      "\u001b[1m1639/1639\u001b[0m \u001b[32m━━━━━━━━━━━━━━━━━━━━\u001b[0m\u001b[37m\u001b[0m \u001b[1m34s\u001b[0m 20ms/step - loss: 0.1449 - val_loss: 0.1467\n",
      "Epoch 43/100\n",
      "\u001b[1m1639/1639\u001b[0m \u001b[32m━━━━━━━━━━━━━━━━━━━━\u001b[0m\u001b[37m\u001b[0m \u001b[1m34s\u001b[0m 21ms/step - loss: 0.1437 - val_loss: 0.1471\n",
      "Epoch 44/100\n",
      "\u001b[1m1639/1639\u001b[0m \u001b[32m━━━━━━━━━━━━━━━━━━━━\u001b[0m\u001b[37m\u001b[0m \u001b[1m34s\u001b[0m 21ms/step - loss: 0.1466 - val_loss: 0.1470\n",
      "Epoch 45/100\n",
      "\u001b[1m1639/1639\u001b[0m \u001b[32m━━━━━━━━━━━━━━━━━━━━\u001b[0m\u001b[37m\u001b[0m \u001b[1m34s\u001b[0m 21ms/step - loss: 0.1433 - val_loss: 0.1466\n",
      "Epoch 46/100\n",
      "\u001b[1m1639/1639\u001b[0m \u001b[32m━━━━━━━━━━━━━━━━━━━━\u001b[0m\u001b[37m\u001b[0m \u001b[1m34s\u001b[0m 20ms/step - loss: 0.1448 - val_loss: 0.1468\n",
      "Epoch 47/100\n",
      "\u001b[1m1639/1639\u001b[0m \u001b[32m━━━━━━━━━━━━━━━━━━━━\u001b[0m\u001b[37m\u001b[0m \u001b[1m34s\u001b[0m 20ms/step - loss: 0.1449 - val_loss: 0.1472\n",
      "Epoch 48/100\n",
      "\u001b[1m1639/1639\u001b[0m \u001b[32m━━━━━━━━━━━━━━━━━━━━\u001b[0m\u001b[37m\u001b[0m \u001b[1m38s\u001b[0m 23ms/step - loss: 0.1437 - val_loss: 0.1467\n",
      "Epoch 49/100\n",
      "\u001b[1m1639/1639\u001b[0m \u001b[32m━━━━━━━━━━━━━━━━━━━━\u001b[0m\u001b[37m\u001b[0m \u001b[1m34s\u001b[0m 20ms/step - loss: 0.1436 - val_loss: 0.1469\n",
      "Epoch 50/100\n",
      "\u001b[1m1639/1639\u001b[0m \u001b[32m━━━━━━━━━━━━━━━━━━━━\u001b[0m\u001b[37m\u001b[0m \u001b[1m33s\u001b[0m 20ms/step - loss: 0.1445 - val_loss: 0.1470\n"
     ]
    }
   ],
   "source": [
    "history = model.fit(X_train, y_train, epochs=100, batch_size=64, validation_split=0.2,callbacks=[early_stopping])"
   ]
  },
  {
   "cell_type": "code",
   "execution_count": 157,
   "id": "8ebcb0a7-d1cc-4b04-b15a-1976478b932c",
   "metadata": {},
   "outputs": [
    {
     "name": "stdout",
     "output_type": "stream",
     "text": [
      "\u001b[1m1025/1025\u001b[0m \u001b[32m━━━━━━━━━━━━━━━━━━━━\u001b[0m\u001b[37m\u001b[0m \u001b[1m5s\u001b[0m 5ms/step - loss: 0.1438\n",
      "Test Loss: 0.14551395177841187\n"
     ]
    }
   ],
   "source": [
    "loss = model.evaluate(X_test, y_test)\n",
    "print(f'Test Loss: {loss}')"
   ]
  },
  {
   "cell_type": "code",
   "execution_count": 158,
   "id": "b8c60c87-bebb-4c42-9a45-0c804edadb5f",
   "metadata": {},
   "outputs": [
    {
     "name": "stdout",
     "output_type": "stream",
     "text": [
      "\u001b[1m1025/1025\u001b[0m \u001b[32m━━━━━━━━━━━━━━━━━━━━\u001b[0m\u001b[37m\u001b[0m \u001b[1m6s\u001b[0m 5ms/step\n"
     ]
    }
   ],
   "source": [
    "predictions = model.predict(X_test)"
   ]
  },
  {
   "cell_type": "code",
   "execution_count": 159,
   "id": "ca30fd62-ebfb-48ef-981e-7d24d45484fb",
   "metadata": {},
   "outputs": [],
   "source": [
    "y_test_inverse = scaler.inverse_transform(y_test)\n",
    "predictions_inverse = scaler.inverse_transform(predictions)"
   ]
  },
  {
   "cell_type": "code",
   "execution_count": 160,
   "id": "8f3d5f19-3caa-494d-bf70-4c55b5885fb2",
   "metadata": {},
   "outputs": [
    {
     "data": {
      "text/plain": [
       "(32776, 1)"
      ]
     },
     "execution_count": 160,
     "metadata": {},
     "output_type": "execute_result"
    }
   ],
   "source": [
    "predictions.shape"
   ]
  },
  {
   "cell_type": "code",
   "execution_count": 161,
   "id": "b5571ba0-8e15-4d29-a161-a0c430214084",
   "metadata": {},
   "outputs": [
    {
     "data": {
      "text/plain": [
       "(32776, 1)"
      ]
     },
     "execution_count": 161,
     "metadata": {},
     "output_type": "execute_result"
    }
   ],
   "source": [
    "y_test.shape\n"
   ]
  },
  {
   "cell_type": "code",
   "execution_count": 162,
   "id": "a67206be-f9a8-43b5-a0cf-94d99ec810ca",
   "metadata": {},
   "outputs": [],
   "source": [
    "y_pred_class = (predictions_inverse > 0.5).astype(int)"
   ]
  },
  {
   "cell_type": "code",
   "execution_count": 163,
   "id": "ed2ef4c0-ba35-489b-bd72-0e842c3636fe",
   "metadata": {},
   "outputs": [
    {
     "name": "stdout",
     "output_type": "stream",
     "text": [
      "Mean Absolute Error: 0.28746054110848995\n",
      "R-squared: 0.16344752075837743\n"
     ]
    }
   ],
   "source": [
    "mae = mean_absolute_error(y_test_inverse, predictions_inverse)\n",
    "r2 = r2_score(y_test, predictions)\n",
    "print(f'Mean Absolute Error: {mae}')\n",
    "print(f'R-squared: {r2}')"
   ]
  },
  {
   "cell_type": "code",
   "execution_count": 164,
   "id": "25a91988-b627-4295-9d25-7c660a998741",
   "metadata": {},
   "outputs": [
    {
     "name": "stdout",
     "output_type": "stream",
     "text": [
      "Accuracy: 0.7937210153771052\n",
      "Precision: 0.5782331027142097\n",
      "Recall: 0.29568648795754526\n",
      "F1 Score: 0.3912847753668858\n"
     ]
    }
   ],
   "source": [
    "from sklearn.metrics import accuracy_score, precision_score, recall_score, f1_score\n",
    "\n",
    "\n",
    "\n",
    "accuracy = accuracy_score(y_test_inverse, y_pred_class)\n",
    "precision = precision_score(y_test_inverse, y_pred_class)\n",
    "recall = recall_score(y_test_inverse, y_pred_class)\n",
    "f1 = f1_score(y_test_inverse, y_pred_class)\n",
    "\n",
    "print(f\"Accuracy: {accuracy}\")\n",
    "print(f\"Precision: {precision}\")\n",
    "print(f\"Recall: {recall}\")\n",
    "print(f\"F1 Score: {f1}\")"
   ]
  },
  {
   "cell_type": "code",
   "execution_count": 165,
   "id": "1b252527-8b72-440b-a5f2-7f83895e10ea",
   "metadata": {},
   "outputs": [
    {
     "data": {
      "image/png": "[encoded data removed]",
      "text/plain": [
       "<Figure size 1000x600 with 1 Axes>"
      ]
     },
     "metadata": {},
     "output_type": "display_data"
    }
   ],
   "source": [
    "plt.figure(figsize=(10, 6))\n",
    "plt.plot(history.history['loss'], label='Training Loss')\n",
    "plt.plot(history.history['val_loss'], label='Validation Loss')\n",
    "plt.title('Training and Validation Loss')\n",
    "plt.xlabel('Epochs')\n",
    "plt.ylabel('Loss')\n",
    "plt.legend()\n",
    "plt.show()"
   ]
  },
  {
   "cell_type": "code",
   "execution_count": 166,
   "id": "d3aeb93f-71f7-44ba-93e8-ceabadf35fd4",
   "metadata": {},
   "outputs": [],
   "source": [
    "plt.close('all')"
   ]
  },
  {
   "cell_type": "code",
   "execution_count": 167,
   "id": "a27f409d-e560-4c7e-8d75-20daa5d7f14e",
   "metadata": {},
   "outputs": [
    {
     "data": {
      "text/plain": [
       "Text(0, 0.5, 'Value')"
      ]
     },
     "execution_count": 167,
     "metadata": {},
     "output_type": "execute_result"
    },
    {
     "data": {
      "image/png": "[encoded data removed]",
      "text/plain": [
       "<Figure size 1000x600 with 1 Axes>"
      ]
     },
     "metadata": {},
     "output_type": "display_data"
    }
   ],
   "source": [
    "plt.figure(figsize=(10, 6))\n",
    "plt.plot(y_test_inverse[200:400], color='blue')\n",
    "plt.plot(predictions_inverse[200:400], color='red')\n",
    "plt.title('Predictions vs Actual Values')\n",
    "plt.xlabel('Time Step')\n",
    "plt.ylabel('Value')"
   ]
  },
  {
   "cell_type": "code",
   "execution_count": null,
   "id": "5b17951c-6351-4c83-a77b-2d6047ce456c",
   "metadata": {},
   "outputs": [],
   "source": []
  }
 ],
 "metadata": {
  "kernelspec": {
   "display_name": "Python 3 (ipykernel)",
   "language": "python",
   "name": "python3"
  },
  "language_info": {
   "codemirror_mode": {
    "name": "ipython",
    "version": 3
   },
   "file_extension": ".py",
   "mimetype": "text/x-python",
   "name": "python",
   "nbconvert_exporter": "python",
   "pygments_lexer": "ipython3",
   "version": "3.9.7"
  }
 },
 "nbformat": 4,
 "nbformat_minor": 5
}
